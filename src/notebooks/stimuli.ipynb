{
 "cells": [
  {
   "cell_type": "code",
   "execution_count": 667,
   "metadata": {},
   "outputs": [],
   "source": [
    "import numpy as np\n",
    "import editdistance"
   ]
  },
  {
   "cell_type": "code",
   "execution_count": 668,
   "metadata": {},
   "outputs": [],
   "source": [
    "# read syllables.txt\n",
    "syllables = []\n",
    "with open('syllables.txt', 'r') as f:\n",
    "    for line in f:\n",
    "        syllables.append(line.strip())"
   ]
  },
  {
   "cell_type": "code",
   "execution_count": 669,
   "metadata": {},
   "outputs": [],
   "source": [
    "# remove ; from syllables and generate list of all 4 and 8 letter words\n",
    "wordss = []\n",
    "for s in syllables:\n",
    "    wordss.append(s.replace(';', ''))\n",
    "wordss4 = [w for w in wordss if len(w) == 4]\n",
    "wordss8 = [w for w in wordss if len(w) == 8]"
   ]
  },
  {
   "cell_type": "code",
   "execution_count": 670,
   "metadata": {},
   "outputs": [],
   "source": [
    "data = [s.split(';') for s in syllables if \";\" in s]\n",
    "# add <BOS> and <EOS> to each entry\n",
    "data = [['<BOS>'] + d + ['<EOS>'] for d in data if len(d) <= 3]"
   ]
  },
  {
   "cell_type": "code",
   "execution_count": 671,
   "metadata": {},
   "outputs": [],
   "source": [
    "# flatten data and convert to set\n",
    "syllables = ['<BOS>', '<EOS>'] + list(set([item for sublist in data for item in sublist if item != '<BOS>' and item != '<EOS>']))"
   ]
  },
  {
   "cell_type": "code",
   "execution_count": 672,
   "metadata": {},
   "outputs": [
    {
     "data": {
      "text/plain": [
       "5153"
      ]
     },
     "execution_count": 672,
     "metadata": {},
     "output_type": "execute_result"
    }
   ],
   "source": [
    "len(syllables)"
   ]
  },
  {
   "cell_type": "code",
   "execution_count": 673,
   "metadata": {},
   "outputs": [],
   "source": [
    "# build a 2-gram transition matrix from data using syllables as index\n",
    "# initialize matrix\n",
    "transition_matrix = np.zeros((len(syllables), len(syllables)))\n",
    "\n",
    "# fill matrix\n",
    "for s in data:\n",
    "    for i in range(len(s)-1):\n",
    "        transition_matrix[syllables.index(s[i]), syllables.index(s[i+1])] += 1\n",
    "\n",
    "# add a constant to each row to avoid zero probabilities\n",
    "transition_matrix += 1"
   ]
  },
  {
   "cell_type": "code",
   "execution_count": 674,
   "metadata": {},
   "outputs": [],
   "source": [
    "# normalize across rows so that the sum of each row is 1\n",
    "transition_matrix = transition_matrix / transition_matrix.sum(axis=1, keepdims=True)\n",
    "# replace NaNs with 0\n",
    "transition_matrix = np.nan_to_num(transition_matrix)"
   ]
  },
  {
   "cell_type": "code",
   "execution_count": 675,
   "metadata": {},
   "outputs": [],
   "source": [
    "def generate_word(n):\n",
    "    # start with <BOS> (index 0)\n",
    "    word = [0]\n",
    "\n",
    "    # generate word\n",
    "    for i in range(n):\n",
    "        # get last syllable\n",
    "        last_syllable = word[-1]\n",
    "        # get next syllable\n",
    "        next_syllable = np.random.choice(len(syllables), p=transition_matrix[last_syllable])\n",
    "        # if next syllable is <EOS>, stop\n",
    "        if next_syllable == 1:\n",
    "            break\n",
    "        # append next syllable to word\n",
    "        word.append(next_syllable)\n",
    "    \n",
    "    # convert word to string\n",
    "    word = ''.join([syllables[s] for s in word])\n",
    "    # remove <BOS> and <EOS> (if present)\n",
    "    word = word.replace('<BOS>', '')\n",
    "    word = word.replace('<EOS>', '')\n",
    "    return word"
   ]
  },
  {
   "cell_type": "code",
   "execution_count": 701,
   "metadata": {},
   "outputs": [],
   "source": [
    "# generate 10000 2-syllable words and pick ones with the length of 8 letters\n",
    "words_8 = [generate_word(3) for i in range(50000)]\n",
    "words_8 = list(set([w for w in words_8 if len(w) == 8]))\n",
    "# remove words_8 that are in wordss8\n",
    "words_8 = [w for w in words_8 if w not in wordss8]"
   ]
  },
  {
   "cell_type": "code",
   "execution_count": 702,
   "metadata": {},
   "outputs": [],
   "source": [
    "words_4 = [generate_word(1) for i in range(50000)]\n",
    "words_4 = list(set([w for w in words_4 if len(w) == 4]))\n",
    "# remove words_4 that are in wordss4\n",
    "words_4 = [w for w in words_4 if w not in wordss4]"
   ]
  },
  {
   "cell_type": "code",
   "execution_count": 739,
   "metadata": {},
   "outputs": [],
   "source": [
    "# create all possible combinations of words_8 and words_4 and choose 20 pairs with the highest edit distance\n",
    "pairs = [(w1, w2) for w1 in words_8 for w2 in words_4]\n",
    "# remowe duplicated pairs\n",
    "pairs = list(set(pairs))\n",
    "\n",
    "# calculate edit distance for each pair\n",
    "edit_distances = [editdistance.eval(p[0], p[1]) for p in pairs]\n",
    "\n",
    "# remove duplicates\n",
    "# edit_distances = list(set(edit_distances))"
   ]
  },
  {
   "cell_type": "code",
   "execution_count": 740,
   "metadata": {},
   "outputs": [],
   "source": [
    "# sort pairs by edit distance and pick the 20 pairs with the highest edit distance\n",
    "pairs = [p for _, p in sorted(zip(edit_distances, pairs), reverse=True)]"
   ]
  },
  {
   "cell_type": "code",
   "execution_count": 741,
   "metadata": {},
   "outputs": [],
   "source": [
    "# select top 1000 pairs and sample 10 random pairs\n",
    "pairs_ = pairs[:80000]\n",
    "# random choice from pairs_ (multidimensional array)\n",
    "pairs_ = [f'{p[0]} {p[1]}' for p in pairs_]"
   ]
  },
  {
   "cell_type": "code",
   "execution_count": 787,
   "metadata": {},
   "outputs": [],
   "source": [
    "# random 10 words_8\n",
    "words_8_ = np.random.choice(words_8, size=5, replace=False)\n",
    "# random 10 words_4\n",
    "words_4_ = np.random.choice(words_4, size=5, replace=False)"
   ]
  },
  {
   "cell_type": "code",
   "execution_count": 788,
   "metadata": {},
   "outputs": [
    {
     "data": {
      "text/plain": [
       "array(['grayosun', 'caugegat', 'biowclos', 'disaxlol', 'efvawick'],\n",
       "      dtype='<U8')"
      ]
     },
     "execution_count": 788,
     "metadata": {},
     "output_type": "execute_result"
    }
   ],
   "source": [
    "words_8_"
   ]
  },
  {
   "cell_type": "code",
   "execution_count": 789,
   "metadata": {},
   "outputs": [
    {
     "data": {
      "text/plain": [
       "array(['glan', 'clus', 'dane', 'asth', 'luke'], dtype='<U4')"
      ]
     },
     "execution_count": 789,
     "metadata": {},
     "output_type": "execute_result"
    }
   ],
   "source": [
    "words_4_"
   ]
  }
 ],
 "metadata": {
  "kernelspec": {
   "display_name": "Python 3",
   "language": "python",
   "name": "python3"
  },
  "language_info": {
   "codemirror_mode": {
    "name": "ipython",
    "version": 3
   },
   "file_extension": ".py",
   "mimetype": "text/x-python",
   "name": "python",
   "nbconvert_exporter": "python",
   "pygments_lexer": "ipython3",
   "version": "3.11.2"
  },
  "orig_nbformat": 4
 },
 "nbformat": 4,
 "nbformat_minor": 2
}
