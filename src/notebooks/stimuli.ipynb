{
 "cells": [
  {
   "cell_type": "code",
   "execution_count": 271,
   "metadata": {},
   "outputs": [],
   "source": [
    "import numpy as np\n",
    "import editdistance\n",
    "import matplotlib.pyplot as plt\n",
    "import pandas as pd\n",
    "import seaborn as sns\n",
    "\n",
    "sns.set(context='paper', style='ticks', font_scale=1)"
   ]
  },
  {
   "cell_type": "markdown",
   "metadata": {},
   "source": [
    "## Sampling pseudoword pairs from the ARC database"
   ]
  },
  {
   "cell_type": "markdown",
   "metadata": {},
   "source": [
    "All of the pseudowords were retreived from the [ARC database](http://www.cogsci.mq.edu.au/research/resources/nwdb/). Read all the 3-letter pseudowords:"
   ]
  },
  {
   "cell_type": "code",
   "execution_count": 272,
   "metadata": {},
   "outputs": [
    {
     "data": {
      "text/html": [
       "<div>\n",
       "<style scoped>\n",
       "    .dataframe tbody tr th:only-of-type {\n",
       "        vertical-align: middle;\n",
       "    }\n",
       "\n",
       "    .dataframe tbody tr th {\n",
       "        vertical-align: top;\n",
       "    }\n",
       "\n",
       "    .dataframe thead th {\n",
       "        text-align: right;\n",
       "    }\n",
       "</style>\n",
       "<table border=\"1\" class=\"dataframe\">\n",
       "  <thead>\n",
       "    <tr style=\"text-align: right;\">\n",
       "      <th></th>\n",
       "      <th>word</th>\n",
       "      <th>transcription</th>\n",
       "    </tr>\n",
       "  </thead>\n",
       "  <tbody>\n",
       "    <tr>\n",
       "      <th>0</th>\n",
       "      <td>osp</td>\n",
       "      <td>Qsp</td>\n",
       "    </tr>\n",
       "    <tr>\n",
       "      <th>1</th>\n",
       "      <td>wob</td>\n",
       "      <td>wQb</td>\n",
       "    </tr>\n",
       "    <tr>\n",
       "      <th>2</th>\n",
       "      <td>foz</td>\n",
       "      <td>fQz</td>\n",
       "    </tr>\n",
       "    <tr>\n",
       "      <th>3</th>\n",
       "      <td>vyt</td>\n",
       "      <td>vIt</td>\n",
       "    </tr>\n",
       "    <tr>\n",
       "      <th>4</th>\n",
       "      <td>bik</td>\n",
       "      <td>bIk</td>\n",
       "    </tr>\n",
       "    <tr>\n",
       "      <th>5</th>\n",
       "      <td>faz</td>\n",
       "      <td>f{z</td>\n",
       "    </tr>\n",
       "    <tr>\n",
       "      <th>6</th>\n",
       "      <td>dav</td>\n",
       "      <td>d{v</td>\n",
       "    </tr>\n",
       "    <tr>\n",
       "      <th>7</th>\n",
       "      <td>yez</td>\n",
       "      <td>jEz</td>\n",
       "    </tr>\n",
       "    <tr>\n",
       "      <th>8</th>\n",
       "      <td>zit</td>\n",
       "      <td>zIt</td>\n",
       "    </tr>\n",
       "    <tr>\n",
       "      <th>9</th>\n",
       "      <td>zos</td>\n",
       "      <td>zQs</td>\n",
       "    </tr>\n",
       "  </tbody>\n",
       "</table>\n",
       "</div>"
      ],
      "text/plain": [
       "  word transcription\n",
       "0  osp           Qsp\n",
       "1  wob           wQb\n",
       "2  foz           fQz\n",
       "3  vyt           vIt\n",
       "4  bik           bIk\n",
       "5  faz           f{z\n",
       "6  dav           d{v\n",
       "7  yez           jEz\n",
       "8  zit           zIt\n",
       "9  zos           zQs"
      ]
     },
     "execution_count": 272,
     "metadata": {},
     "output_type": "execute_result"
    }
   ],
   "source": [
    "letters_3 = pd.read_csv('3_letters.txt', header=None, delim_whitespace=True)\n",
    "letters_3.columns = ['word', 'transcription']\n",
    "letters_3.head(10)"
   ]
  },
  {
   "cell_type": "markdown",
   "metadata": {},
   "source": [
    "Read all the 7-letter pseudowords:"
   ]
  },
  {
   "cell_type": "code",
   "execution_count": 273,
   "metadata": {},
   "outputs": [
    {
     "data": {
      "text/html": [
       "<div>\n",
       "<style scoped>\n",
       "    .dataframe tbody tr th:only-of-type {\n",
       "        vertical-align: middle;\n",
       "    }\n",
       "\n",
       "    .dataframe tbody tr th {\n",
       "        vertical-align: top;\n",
       "    }\n",
       "\n",
       "    .dataframe thead th {\n",
       "        text-align: right;\n",
       "    }\n",
       "</style>\n",
       "<table border=\"1\" class=\"dataframe\">\n",
       "  <thead>\n",
       "    <tr style=\"text-align: right;\">\n",
       "      <th></th>\n",
       "      <th>word</th>\n",
       "      <th>transcription</th>\n",
       "    </tr>\n",
       "  </thead>\n",
       "  <tbody>\n",
       "    <tr>\n",
       "      <th>0</th>\n",
       "      <td>shylned</td>\n",
       "      <td>SIlnd</td>\n",
       "    </tr>\n",
       "    <tr>\n",
       "      <th>1</th>\n",
       "      <td>twaudge</td>\n",
       "      <td>tw9_</td>\n",
       "    </tr>\n",
       "    <tr>\n",
       "      <th>2</th>\n",
       "      <td>gnownse</td>\n",
       "      <td>n6ns</td>\n",
       "    </tr>\n",
       "    <tr>\n",
       "      <th>3</th>\n",
       "      <td>phlorbs</td>\n",
       "      <td>fl9bz</td>\n",
       "    </tr>\n",
       "    <tr>\n",
       "      <th>4</th>\n",
       "      <td>gueksed</td>\n",
       "      <td>gEkst</td>\n",
       "    </tr>\n",
       "    <tr>\n",
       "      <th>5</th>\n",
       "      <td>twammth</td>\n",
       "      <td>tw{mT</td>\n",
       "    </tr>\n",
       "    <tr>\n",
       "      <th>6</th>\n",
       "      <td>skeinge</td>\n",
       "      <td>sk1n_</td>\n",
       "    </tr>\n",
       "    <tr>\n",
       "      <th>7</th>\n",
       "      <td>propced</td>\n",
       "      <td>prQpst</td>\n",
       "    </tr>\n",
       "    <tr>\n",
       "      <th>8</th>\n",
       "      <td>skroarb</td>\n",
       "      <td>skr9b</td>\n",
       "    </tr>\n",
       "    <tr>\n",
       "      <th>9</th>\n",
       "      <td>twounts</td>\n",
       "      <td>tw6nts</td>\n",
       "    </tr>\n",
       "  </tbody>\n",
       "</table>\n",
       "</div>"
      ],
      "text/plain": [
       "      word transcription\n",
       "0  shylned         SIlnd\n",
       "1  twaudge          tw9_\n",
       "2  gnownse          n6ns\n",
       "3  phlorbs         fl9bz\n",
       "4  gueksed         gEkst\n",
       "5  twammth         tw{mT\n",
       "6  skeinge         sk1n_\n",
       "7  propced        prQpst\n",
       "8  skroarb         skr9b\n",
       "9  twounts        tw6nts"
      ]
     },
     "execution_count": 273,
     "metadata": {},
     "output_type": "execute_result"
    }
   ],
   "source": [
    "letters_7 = pd.read_csv('7_letters.txt', header=None, delim_whitespace=True)\n",
    "letters_7.columns = ['word', 'transcription']\n",
    "letters_7.head(10)"
   ]
  },
  {
   "cell_type": "markdown",
   "metadata": {},
   "source": [
    "Find all the pairs with edit distance of 7 from the list of all combinations of 3-letter and 7-letter pseudowords:"
   ]
  },
  {
   "cell_type": "code",
   "execution_count": 274,
   "metadata": {},
   "outputs": [],
   "source": [
    "# initialize matrix\n",
    "lev_matrix = np.zeros((len(letters_7), len(letters_3)))\n",
    "\n",
    "# fill matrix\n",
    "for i in range(len(letters_7)):\n",
    "    for j in range(len(letters_3)):\n",
    "        lev_matrix[i, j] = editdistance.eval(letters_7['word'][i], letters_3['word'][j])"
   ]
  },
  {
   "cell_type": "code",
   "execution_count": 275,
   "metadata": {},
   "outputs": [],
   "source": [
    "# find pairs where all the levenstein distances are the same\n",
    "pairs = []\n",
    "\n",
    "for i in range(len(letters_7)):\n",
    "    for j in range(len(letters_3)):\n",
    "        if lev_matrix[i, j] == 7:\n",
    "            pairs.append((letters_7['word'][i], letters_3['word'][j]))\n"
   ]
  },
  {
   "cell_type": "code",
   "execution_count": 276,
   "metadata": {},
   "outputs": [],
   "source": [
    "# select ten random unique pairs\n",
    "pairs = list(set(pairs))\n",
    "\n",
    "# random choice knowing pairs is a lsit of tuples so from rnage\n",
    "i = np.random.choice(range(len(pairs)), size=10, replace=False)\n",
    "\n",
    "# select 10 random pairs\n",
    "pairs_ = [pairs[j] for j in i]"
   ]
  },
  {
   "cell_type": "code",
   "execution_count": 277,
   "metadata": {},
   "outputs": [
    {
     "data": {
      "text/plain": [
       "[('wrympte', 'nig'),\n",
       " ('gueksed', 'oct'),\n",
       " ('ghawnts', 'oid'),\n",
       " ('gleupth', 'ciz'),\n",
       " ('scwighk', 'jov'),\n",
       " ('zighled', 'sny'),\n",
       " ('screths', 'kig'),\n",
       " ('klolmbs', 'aph'),\n",
       " ('ghygned', 'vul'),\n",
       " ('kwontch', 'gim')]"
      ]
     },
     "execution_count": 277,
     "metadata": {},
     "output_type": "execute_result"
    }
   ],
   "source": [
    "pairs_"
   ]
  },
  {
   "cell_type": "code",
   "execution_count": 279,
   "metadata": {},
   "outputs": [
    {
     "name": "stdout",
     "output_type": "stream",
     "text": [
      "['wrympte', 'gueksed', 'ghawnts', 'gleupth', 'scwighk', 'zighled', 'screths', 'klolmbs', 'ghygned', 'kwontch']\n",
      "['nig', 'oct', 'oid', 'ciz', 'jov', 'sny', 'kig', 'aph', 'vul', 'gim']\n"
     ]
    }
   ],
   "source": [
    "# print 7 and 3 letter words as lists\n",
    "print([pair[0] for pair in pairs_])\n",
    "print([pair[1] for pair in pairs_])"
   ]
  },
  {
   "cell_type": "markdown",
   "metadata": {},
   "source": [
    "Plot the matrix with the sampled pairs:"
   ]
  },
  {
   "cell_type": "code",
   "execution_count": 280,
   "metadata": {},
   "outputs": [
    {
     "data": {
      "image/png": "[encoded data removed]",
      "text/plain": [
       "<Figure size 640x480 with 2 Axes>"
      ]
     },
     "metadata": {},
     "output_type": "display_data"
    }
   ],
   "source": [
    "# Initialize matrix\n",
    "lev_matrix = np.zeros((len(pairs_), len(pairs_)))\n",
    "\n",
    "# Fill matrix\n",
    "for i in range(len(pairs_)):\n",
    "    for j in range(len(pairs_)):\n",
    "        lev_matrix[i, j] = editdistance.eval(pairs_[i][0], pairs_[j][1])\n",
    "\n",
    "# Plot matrix with white borders between cells\n",
    "fig, ax = plt.subplots()\n",
    "cax = ax.matshow(lev_matrix, cmap='Greys', interpolation='nearest', alpha=0.5, vmax=7)\n",
    "\n",
    "# Add colorbar\n",
    "cbar = plt.colorbar(cax, label='Levenshtein distance', shrink=0.4, orientation='horizontal')\n",
    "cbar.ax.xaxis.set_ticks_position('bottom')\n",
    "\n",
    "# Add xticks\n",
    "plt.xticks(np.arange(len(pairs_)), [p[1] for p in pairs_], rotation=90)\n",
    "\n",
    "# Add yticks\n",
    "plt.yticks(np.arange(len(pairs_)), [p[0] for p in pairs_])\n",
    "\n",
    "# Add dots at the diagonal\n",
    "plt.scatter(range(len(pairs_)), range(len(pairs_)), color='black', s=100)\n",
    "\n",
    "# Draw gridlines between cells to create white borders\n",
    "ax.set_xticks(np.arange(-0.5, len(pairs_), 1), minor=True)\n",
    "ax.set_yticks(np.arange(-0.5, len(pairs_), 1), minor=True)\n",
    "ax.grid(which='minor', color='white', linestyle='-', linewidth=2)\n",
    "\n",
    "# rotate the xticks\n",
    "plt.xticks(rotation=360)\n",
    "\n",
    "# Turn gridlines off for major ticks\n",
    "ax.tick_params(which='minor', size=0)\n",
    "\n",
    "plt.tight_layout()\n",
    "\n",
    "# save figure\n",
    "plt.savefig('lev_matrix.pdf', dpi=300)\n",
    "\n",
    "# Show plot\n",
    "plt.show()"
   ]
  }
 ],
 "metadata": {
  "kernelspec": {
   "display_name": "Python 3",
   "language": "python",
   "name": "python3"
  },
  "language_info": {
   "codemirror_mode": {
    "name": "ipython",
    "version": 3
   },
   "file_extension": ".py",
   "mimetype": "text/x-python",
   "name": "python",
   "nbconvert_exporter": "python",
   "pygments_lexer": "ipython3",
   "version": "3.11.2"
  },
  "orig_nbformat": 4
 },
 "nbformat": 4,
 "nbformat_minor": 2
}
