{
 "cells": [
  {
   "cell_type": "code",
   "execution_count": 3,
   "metadata": {},
   "outputs": [],
   "source": [
    "import numpy as np\n",
    "import editdistance\n",
    "import matplotlib.pyplot as plt\n",
    "import pandas as pd\n",
    "import seaborn as sns\n",
    "\n",
    "sns.set(context='paper', style='ticks', font_scale=1)"
   ]
  },
  {
   "cell_type": "markdown",
   "metadata": {},
   "source": [
    "## Sampling pseudoword pairs from the ARC database"
   ]
  },
  {
   "cell_type": "markdown",
   "metadata": {},
   "source": [
    "All of the pseudowords were retreived from the [ARC database](http://www.cogsci.mq.edu.au/research/resources/nwdb/). Read all the 3-letter pseudowords:"
   ]
  },
  {
   "cell_type": "code",
   "execution_count": 4,
   "metadata": {},
   "outputs": [
    {
     "data": {
      "text/html": [
       "<div>\n",
       "<style scoped>\n",
       "    .dataframe tbody tr th:only-of-type {\n",
       "        vertical-align: middle;\n",
       "    }\n",
       "\n",
       "    .dataframe tbody tr th {\n",
       "        vertical-align: top;\n",
       "    }\n",
       "\n",
       "    .dataframe thead th {\n",
       "        text-align: right;\n",
       "    }\n",
       "</style>\n",
       "<table border=\"1\" class=\"dataframe\">\n",
       "  <thead>\n",
       "    <tr style=\"text-align: right;\">\n",
       "      <th></th>\n",
       "      <th>word</th>\n",
       "      <th>transcription</th>\n",
       "    </tr>\n",
       "  </thead>\n",
       "  <tbody>\n",
       "    <tr>\n",
       "      <th>0</th>\n",
       "      <td>rop</td>\n",
       "      <td>rQp</td>\n",
       "    </tr>\n",
       "    <tr>\n",
       "      <th>1</th>\n",
       "      <td>poy</td>\n",
       "      <td>p4</td>\n",
       "    </tr>\n",
       "    <tr>\n",
       "      <th>2</th>\n",
       "      <td>vev</td>\n",
       "      <td>vEv</td>\n",
       "    </tr>\n",
       "    <tr>\n",
       "      <th>3</th>\n",
       "      <td>tib</td>\n",
       "      <td>tIb</td>\n",
       "    </tr>\n",
       "    <tr>\n",
       "      <th>4</th>\n",
       "      <td>wat</td>\n",
       "      <td>w{t</td>\n",
       "    </tr>\n",
       "    <tr>\n",
       "      <th>5</th>\n",
       "      <td>kib</td>\n",
       "      <td>kIb</td>\n",
       "    </tr>\n",
       "    <tr>\n",
       "      <th>6</th>\n",
       "      <td>gwu</td>\n",
       "      <td>gwu</td>\n",
       "    </tr>\n",
       "    <tr>\n",
       "      <th>7</th>\n",
       "      <td>suv</td>\n",
       "      <td>sVv</td>\n",
       "    </tr>\n",
       "    <tr>\n",
       "      <th>8</th>\n",
       "      <td>oth</td>\n",
       "      <td>QT</td>\n",
       "    </tr>\n",
       "    <tr>\n",
       "      <th>9</th>\n",
       "      <td>sme</td>\n",
       "      <td>smi</td>\n",
       "    </tr>\n",
       "  </tbody>\n",
       "</table>\n",
       "</div>"
      ],
      "text/plain": [
       "  word transcription\n",
       "0  rop           rQp\n",
       "1  poy            p4\n",
       "2  vev           vEv\n",
       "3  tib           tIb\n",
       "4  wat           w{t\n",
       "5  kib           kIb\n",
       "6  gwu           gwu\n",
       "7  suv           sVv\n",
       "8  oth            QT\n",
       "9  sme           smi"
      ]
     },
     "execution_count": 4,
     "metadata": {},
     "output_type": "execute_result"
    }
   ],
   "source": [
    "letters_3 = pd.read_csv('3_letters.txt', header=None, delim_whitespace=True)\n",
    "letters_3.columns = ['word', 'transcription']\n",
    "letters_3.head(10)"
   ]
  },
  {
   "cell_type": "markdown",
   "metadata": {},
   "source": [
    "Read all the 7-letter pseudowords:"
   ]
  },
  {
   "cell_type": "code",
   "execution_count": 5,
   "metadata": {},
   "outputs": [
    {
     "data": {
      "text/html": [
       "<div>\n",
       "<style scoped>\n",
       "    .dataframe tbody tr th:only-of-type {\n",
       "        vertical-align: middle;\n",
       "    }\n",
       "\n",
       "    .dataframe tbody tr th {\n",
       "        vertical-align: top;\n",
       "    }\n",
       "\n",
       "    .dataframe thead th {\n",
       "        text-align: right;\n",
       "    }\n",
       "</style>\n",
       "<table border=\"1\" class=\"dataframe\">\n",
       "  <thead>\n",
       "    <tr style=\"text-align: right;\">\n",
       "      <th></th>\n",
       "      <th>word</th>\n",
       "      <th>transcription</th>\n",
       "    </tr>\n",
       "  </thead>\n",
       "  <tbody>\n",
       "    <tr>\n",
       "      <th>0</th>\n",
       "      <td>swaught</td>\n",
       "      <td>sw9t</td>\n",
       "    </tr>\n",
       "    <tr>\n",
       "      <th>1</th>\n",
       "      <td>skorgue</td>\n",
       "      <td>sk9g</td>\n",
       "    </tr>\n",
       "    <tr>\n",
       "      <th>2</th>\n",
       "      <td>stroute</td>\n",
       "      <td>str6t</td>\n",
       "    </tr>\n",
       "    <tr>\n",
       "      <th>3</th>\n",
       "      <td>thweige</td>\n",
       "      <td>Tw1_</td>\n",
       "    </tr>\n",
       "    <tr>\n",
       "      <th>4</th>\n",
       "      <td>phlawse</td>\n",
       "      <td>fl9s</td>\n",
       "    </tr>\n",
       "    <tr>\n",
       "      <th>5</th>\n",
       "      <td>scroign</td>\n",
       "      <td>skr4n</td>\n",
       "    </tr>\n",
       "    <tr>\n",
       "      <th>6</th>\n",
       "      <td>snaitch</td>\n",
       "      <td>sn1J</td>\n",
       "    </tr>\n",
       "    <tr>\n",
       "      <th>7</th>\n",
       "      <td>stroath</td>\n",
       "      <td>str5T</td>\n",
       "    </tr>\n",
       "    <tr>\n",
       "      <th>8</th>\n",
       "      <td>prourth</td>\n",
       "      <td>pr9T</td>\n",
       "    </tr>\n",
       "    <tr>\n",
       "      <th>9</th>\n",
       "      <td>strerth</td>\n",
       "      <td>str3T</td>\n",
       "    </tr>\n",
       "  </tbody>\n",
       "</table>\n",
       "</div>"
      ],
      "text/plain": [
       "      word transcription\n",
       "0  swaught          sw9t\n",
       "1  skorgue          sk9g\n",
       "2  stroute         str6t\n",
       "3  thweige          Tw1_\n",
       "4  phlawse          fl9s\n",
       "5  scroign         skr4n\n",
       "6  snaitch          sn1J\n",
       "7  stroath         str5T\n",
       "8  prourth          pr9T\n",
       "9  strerth         str3T"
      ]
     },
     "execution_count": 5,
     "metadata": {},
     "output_type": "execute_result"
    }
   ],
   "source": [
    "letters_7 = pd.read_csv('7_letters.txt', header=None, delim_whitespace=True)\n",
    "letters_7.columns = ['word', 'transcription']\n",
    "letters_7.head(10)"
   ]
  },
  {
   "cell_type": "markdown",
   "metadata": {},
   "source": [
    "Find all the pairs with edit distance of 7 from the list of all combinations of 3-letter and 7-letter pseudowords:"
   ]
  },
  {
   "cell_type": "code",
   "execution_count": 6,
   "metadata": {},
   "outputs": [],
   "source": [
    "# initialize matrix\n",
    "lev_matrix = np.zeros((len(letters_7), len(letters_3)))\n",
    "\n",
    "# fill matrix\n",
    "for i in range(len(letters_7)):\n",
    "    for j in range(len(letters_3)):\n",
    "        lev_matrix[i, j] = editdistance.eval(letters_7['word'][i], letters_3['word'][j])"
   ]
  },
  {
   "cell_type": "code",
   "execution_count": 7,
   "metadata": {},
   "outputs": [],
   "source": [
    "# find pairs where all the levenstein distances are the same\n",
    "pairs = []\n",
    "\n",
    "for i in range(len(letters_7)):\n",
    "    for j in range(len(letters_3)):\n",
    "        if lev_matrix[i, j] == 7:\n",
    "            pairs.append((letters_7['word'][i], letters_3['word'][j]))\n"
   ]
  },
  {
   "cell_type": "code",
   "execution_count": 8,
   "metadata": {},
   "outputs": [],
   "source": [
    "# select ten random unique pairs\n",
    "pairs = list(set(pairs))\n",
    "\n",
    "# random choice knowing pairs is a lsit of tuples so from rnage\n",
    "i = np.random.choice(range(len(pairs)), size=10, replace=False)\n",
    "\n",
    "# select 10 random pairs\n",
    "pairs_ = [pairs[j] for j in i]"
   ]
  },
  {
   "cell_type": "code",
   "execution_count": 9,
   "metadata": {},
   "outputs": [
    {
     "data": {
      "text/plain": [
       "[('dwusque', 'cag'),\n",
       " ('splonch', 'tha'),\n",
       " ('phlurve', 'zop'),\n",
       " ('thraugh', 'gwy'),\n",
       " ('brource', 'vap'),\n",
       " ('shreeth', 'bis'),\n",
       " ('bluiche', 'tra'),\n",
       " ('splelch', 'juy'),\n",
       " ('phirque', 'ock'),\n",
       " ('shrench', 'dat')]"
      ]
     },
     "execution_count": 9,
     "metadata": {},
     "output_type": "execute_result"
    }
   ],
   "source": [
    "pairs_"
   ]
  },
  {
   "cell_type": "code",
   "execution_count": 10,
   "metadata": {},
   "outputs": [],
   "source": [
    "pairs_ = [('swourge', 'fep'),\n",
    "        ('phlolve', 'gup'),\n",
    "        ('phoothe', 'eep'),\n",
    "        ('spleese', 'onk'),\n",
    "        ('phrurnt', 'woc'),\n",
    "        ('phladge', 'yun'),\n",
    "        ('splulge', 'feb'),\n",
    "        ('sneathe', 'dob'),\n",
    "        ('phlerge', 'zay'),\n",
    "        ('shriege', 'zup')]"
   ]
  },
  {
   "cell_type": "code",
   "execution_count": 16,
   "metadata": {},
   "outputs": [
    {
     "name": "stdout",
     "output_type": "stream",
     "text": [
      "swourge & fep \\\\\n",
      "phlolve & gup \\\\\n",
      "phoothe & eep \\\\\n",
      "spleese & onk \\\\\n",
      "phrurnt & woc \\\\\n",
      "phladge & yun \\\\\n",
      "splulge & feb \\\\\n",
      "sneathe & dob \\\\\n",
      "phlerge & zay \\\\\n",
      "shriege & zup \\\\\n"
     ]
    }
   ],
   "source": [
    "for i in range(10):\n",
    "    print(f\"{pairs_[i][0]} & {pairs_[i][1]} \\\\\\\\\")"
   ]
  },
  {
   "cell_type": "code",
   "execution_count": 11,
   "metadata": {},
   "outputs": [
    {
     "name": "stdout",
     "output_type": "stream",
     "text": [
      "['swourge', 'phlolve', 'phoothe', 'spleese', 'phrurnt', 'phladge', 'splulge', 'sneathe', 'phlerge', 'shriege']\n",
      "['fep', 'gup', 'eep', 'onk', 'woc', 'yun', 'feb', 'dob', 'zay', 'zup']\n"
     ]
    }
   ],
   "source": [
    "# print 7 and 3 letter words as lists\n",
    "print([pair[0] for pair in pairs_])\n",
    "print([pair[1] for pair in pairs_])"
   ]
  },
  {
   "cell_type": "markdown",
   "metadata": {},
   "source": [
    "Plot the matrix with the sampled pairs:"
   ]
  },
  {
   "cell_type": "code",
   "execution_count": 17,
   "metadata": {},
   "outputs": [
    {
     "data": {
      "image/png": "[encoded data removed]",
      "text/plain": [
       "<Figure size 640x480 with 2 Axes>"
      ]
     },
     "metadata": {},
     "output_type": "display_data"
    }
   ],
   "source": [
    "# Initialize matrix\n",
    "lev_matrix = np.zeros((len(pairs_), len(pairs_)))\n",
    "\n",
    "# Fill matrix\n",
    "for i in range(len(pairs_)):\n",
    "    for j in range(len(pairs_)):\n",
    "        lev_matrix[i, j] = editdistance.eval(pairs_[i][0], pairs_[j][1])\n",
    "\n",
    "# Plot matrix with white borders between cells\n",
    "fig, ax = plt.subplots()\n",
    "cax = ax.matshow(lev_matrix, cmap='Greys', interpolation='nearest', alpha=0.5, vmax=7)\n",
    "\n",
    "# Add colorbar\n",
    "cbar = plt.colorbar(cax, label='Levenshtein distance', shrink=0.4, orientation='horizontal')\n",
    "cbar.ax.xaxis.set_ticks_position('bottom')\n",
    "\n",
    "# Add xticks\n",
    "plt.xticks(np.arange(len(pairs_)), [p[1] for p in pairs_], rotation=90)\n",
    "\n",
    "# Add yticks\n",
    "plt.yticks(np.arange(len(pairs_)), [p[0] for p in pairs_])\n",
    "\n",
    "# Add dots at the diagonal\n",
    "plt.scatter(range(len(pairs_)), range(len(pairs_)), color='black', s=100)\n",
    "\n",
    "# Draw gridlines between cells to create white borders\n",
    "ax.set_xticks(np.arange(-0.5, len(pairs_), 1), minor=True)\n",
    "ax.set_yticks(np.arange(-0.5, len(pairs_), 1), minor=True)\n",
    "ax.grid(which='minor', color='white', linestyle='-', linewidth=2)\n",
    "\n",
    "# rotate the xticks\n",
    "plt.xticks(rotation=360)\n",
    "\n",
    "# Turn gridlines off for major ticks\n",
    "ax.tick_params(which='minor', size=0)\n",
    "\n",
    "plt.tight_layout()\n",
    "\n",
    "# save figure\n",
    "plt.savefig('lev_matrix.pdf', dpi=300)\n",
    "\n",
    "# Show plot\n",
    "plt.show()"
   ]
  }
 ],
 "metadata": {
  "kernelspec": {
   "display_name": "Python 3",
   "language": "python",
   "name": "python3"
  },
  "language_info": {
   "codemirror_mode": {
    "name": "ipython",
    "version": 3
   },
   "file_extension": ".py",
   "mimetype": "text/x-python",
   "name": "python",
   "nbconvert_exporter": "python",
   "pygments_lexer": "ipython3",
   "version": "3.11.2"
  },
  "orig_nbformat": 4
 },
 "nbformat": 4,
 "nbformat_minor": 2
}
