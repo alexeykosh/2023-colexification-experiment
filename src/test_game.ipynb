{
 "cells": [
  {
   "cell_type": "code",
   "execution_count": 26,
   "metadata": {},
   "outputs": [],
   "source": [
    "from game import Game"
   ]
  },
  {
   "cell_type": "code",
   "execution_count": 27,
   "metadata": {},
   "outputs": [],
   "source": [
    "a = Game({'T': ['r'], 'C': ['l'], 'S': ['r', 'l']}, rounds=5)"
   ]
  },
  {
   "cell_type": "code",
   "execution_count": 28,
   "metadata": {},
   "outputs": [
    {
     "name": "stdout",
     "output_type": "stream",
     "text": [
      "S\n",
      "False\n",
      "False\n",
      "False\n",
      "False\n",
      "False\n",
      "0\n",
      "T\n",
      "False\n",
      "False\n",
      "False\n",
      "False\n",
      "False\n",
      "0\n",
      "C\n",
      "True\n",
      "True\n",
      "True\n",
      "True\n",
      "True\n",
      "5\n",
      "S\n",
      "False\n",
      "False\n",
      "False\n",
      "False\n",
      "False\n",
      "5\n",
      "C\n",
      "True\n",
      "True\n",
      "True\n",
      "True\n",
      "True\n",
      "10\n"
     ]
    }
   ],
   "source": [
    "for _ in range(5):\n",
    "    for _ in range(5):\n",
    "        a.generate_sc()\n",
    "    print(a.c_stimulus)\n",
    "    a.log_word('rabu')\n",
    "    for _ in range(5):\n",
    "        print(a.check('C'))\n",
    "    # print(a.current_round)\n",
    "    # print(a.n_checks)\n",
    "    print(a.score)"
   ]
  },
  {
   "cell_type": "code",
   "execution_count": 7,
   "metadata": {},
   "outputs": [
    {
     "data": {
      "text/plain": [
       "defaultdict(dict,\n",
       "            {1: {'stimulus': 'C',\n",
       "              'context': 'l',\n",
       "              'word': 'rabu',\n",
       "              'stimulus_out': 'C',\n",
       "              'correct': True,\n",
       "              'score': 1},\n",
       "             2: {'stimulus': 'T',\n",
       "              'context': 'r',\n",
       "              'word': 'rabu',\n",
       "              'stimulus_out': 'C',\n",
       "              'correct': False,\n",
       "              'score': 1},\n",
       "             3: {'stimulus': 'S',\n",
       "              'context': 'l',\n",
       "              'word': 'rabu',\n",
       "              'stimulus_out': 'C',\n",
       "              'correct': False,\n",
       "              'score': 1},\n",
       "             4: {'stimulus': 'C',\n",
       "              'context': 'l',\n",
       "              'word': 'rabu',\n",
       "              'stimulus_out': 'C',\n",
       "              'correct': True,\n",
       "              'score': 2},\n",
       "             5: {'stimulus': 'T',\n",
       "              'context': 'r',\n",
       "              'word': 'rabu',\n",
       "              'stimulus_out': 'C',\n",
       "              'correct': False,\n",
       "              'score': 2}})"
      ]
     },
     "execution_count": 7,
     "metadata": {},
     "output_type": "execute_result"
    }
   ],
   "source": [
    "a.LOGS"
   ]
  },
  {
   "cell_type": "code",
   "execution_count": null,
   "metadata": {},
   "outputs": [],
   "source": []
  }
 ],
 "metadata": {
  "kernelspec": {
   "display_name": "experiment-3.8",
   "language": "python",
   "name": "python3"
  },
  "language_info": {
   "codemirror_mode": {
    "name": "ipython",
    "version": 3
   },
   "file_extension": ".py",
   "mimetype": "text/x-python",
   "name": "python",
   "nbconvert_exporter": "python",
   "pygments_lexer": "ipython3",
   "version": "3.8.12"
  },
  "orig_nbformat": 4
 },
 "nbformat": 4,
 "nbformat_minor": 2
}
